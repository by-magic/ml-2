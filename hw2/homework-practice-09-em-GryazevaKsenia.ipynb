{
 "cells": [
  {
   "cell_type": "markdown",
   "metadata": {
    "pycharm": {
     "name": "#%% md\n"
    }
   },
   "source": [
    "# Машинное обучение, ФКН ВШЭ\n",
    "\n",
    "# Практическое задание 9. EM-алгоритм\n",
    "\n",
    "## Общая информация\n",
    "\n",
    "Дата выдачи: 28.02.2024\n",
    "\n",
    "Мягкий дедлайн: 19.03.2024 23:59 MSK\n",
    "\n",
    "Жёсткий дедлайн: 25.03.2024 23:59 MSK\n",
    "\n",
    "## Оценивание и штрафы\n",
    "Каждая из задач имеет определенную «стоимость» (указана в скобках около задачи). Максимальная оценка за работу (без учёта бонусов) — 15 баллов.\n",
    "\n",
    "Сдавать задание после указанного жёсткого срока сдачи нельзя. При выставлении неполного балла за задание в связи с наличием ошибок на усмотрение проверяющего предусмотрена возможность исправить работу на указанных в ответном письме условиях.\n",
    "\n",
    "Задание выполняется самостоятельно. «Похожие» решения считаются плагиатом и все задействованные студенты (в том числе те, у кого списали) не могут получить за него больше 0 баллов (подробнее о плагиате см. на странице курса). Если вы нашли решение какого-то из заданий (или его часть) в открытом источнике, необходимо указать ссылку на этот источник в отдельном блоке в конце вашей работы (скорее всего вы будете не единственным, кто это нашел, поэтому чтобы исключить подозрение в плагиате, необходима ссылка на источник).\n",
    "\n",
    "Неэффективная реализация кода может негативно отразиться на оценке.\n",
    "\n",
    "## Формат сдачи\n",
    "Задания сдаются через систему anytask. Посылка должна содержать:\n",
    "* Ноутбук homework-practice-09-em-Username.ipynb\n",
    "* Модули preprocessing.py, metrics.py, models.py, содержащие написанный вами код\n",
    "* Ссылки на посылки в Яндекс.Контест для всех функций и классов, которые вы реализовали\n",
    "\n",
    "Ссылка на Яндекс.Контест: https://contest.yandex.ru/contest/60281\n",
    "\n",
    "Username — ваша фамилия и имя на латинице именно в таком порядке"
   ]
  },
  {
   "cell_type": "markdown",
   "metadata": {
    "pycharm": {
     "name": "#%% md\n"
    }
   },
   "source": [
    "# Generative model of Labels, Abilities, and Difficulties (GLAD)\n",
    "\n",
    "В [семинаре 16](https://github.com/esokolov/ml-course-hse/blob/master/2022-spring/seminars/sem16-em.pdf) мы рассмотрели задачу восстановления истинной разметки по меткам от экспертов (которым мы не можем доверять в полной мере, более того, их предсказания могут расходиться).\n",
    "\n",
    "Рассмотрим следующую вероятностную модель:\n",
    "\n",
    "$$ p(L, Z | \\alpha, \\beta) = \\prod_{i=1}^{n} \\prod_{j=1}^m \\sigma(\\alpha_j\\beta_i)^{[l_{ij}=z_i]}\\sigma(-\\alpha_j\\beta_i)^{1-[l_{ij}=z_i]} p(z_j)$$\n",
    "\n",
    "где $l_{ij} -$ ответ $j$-го эксперта на задачу $i$, $z_j -$ истинная разметка, $\\alpha_i, \\beta_j-$ уровень экспертизы и сложность задачи соответственно. Для более подробного описания модели можно прочитать материалы семинара, а также [оригинальную статью](http://papers.nips.cc/paper/3644-whose-vote-should-count-more-optimal-integration-of-labels-from-labelers-of-unknown-expertise.pdf). Априорное распределение положим равномерным: $p(z_i) = 0.5$."
   ]
  },
  {
   "cell_type": "code",
   "execution_count": 1,
   "metadata": {
    "pycharm": {
     "name": "#%%\n"
    }
   },
   "outputs": [],
   "source": [
    "import numpy as np\n",
    "seed = 0xDEADF00D\n",
    "np.random.seed(seed)"
   ]
  },
  {
   "cell_type": "code",
   "execution_count": 2,
   "metadata": {
    "pycharm": {
     "name": "#%%\n"
    }
   },
   "outputs": [],
   "source": [
    "L = np.load('L.npy')\n",
    "n, m = L.shape"
   ]
  },
  {
   "cell_type": "markdown",
   "metadata": {
    "pycharm": {
     "name": "#%% md\n"
    }
   },
   "source": [
    "**Задание 1. (2 балла)** Реализуйте EM-алгоритм для заданной выше модели. Вы можете воспользоваться предложенными шаблонами или написать свои. \n",
    "\n",
    "Обратите внимание, что правдоподобие моделирует не вероятность метки $l_{ij}$ принять значение 1 или 0, а вероятность того, что она равна скрытой переменной $z_i$, т.е. $p(l_{ij} = z_j|z_j, \\alpha_j, \\beta_i) \\neq p(l_{ij} = 1|\\alpha_j, \\beta_i) $. При этом заранее неизвестно, какая из скрытых переменных соответствует метке 1. Не забывайте, что параметры $\\beta_i$ должны быть неотрицательными; для этого оптимизируйте $\\log \\beta$. На M-шаге можете использовать как один шаг градиентного спуска, так и несколько: разумные результаты у вас должны получаться вне зависимости от числа итераций.\n",
    "\n",
    "Также при работе с вероятностями не забывайте о точности:\n",
    "1. Используйте логарифмы вероятностей.\n",
    "2. $\\log \\sigma(a)$ лучше преобразовать в $\\log \\sigma(a) = -\\log(1 + \\exp(-a)) = -\\mathrm{softplus}(-a) $\n",
    "3. Ещё полезные функции: `scipy.special.expit`, `scipy.special.logsumexp`, `np.log1p`\n",
    "\n",
    "Для отладки может быть полезно проверить градиент с помощью `scipy.optimize.check_grad`."
   ]
  },
  {
   "cell_type": "code",
   "execution_count": 3,
   "metadata": {
    "pycharm": {
     "name": "#%%\n"
    }
   },
   "outputs": [],
   "source": [
    "def softplus(x):\n",
    "    '''stable version of log(1 + exp(x))'''\n",
    "    c = (x > 20) * 1.\n",
    "    return np.log1p(np.exp(x * (1-c)) * (1-c)) + x * c"
   ]
  },
  {
   "cell_type": "code",
   "execution_count": 4,
   "metadata": {},
   "outputs": [],
   "source": [
    "from scipy.special import expit\n",
    "from sklearn.metrics import accuracy_score"
   ]
  },
  {
   "cell_type": "code",
   "execution_count": 5,
   "metadata": {
    "pycharm": {
     "name": "#%%\n"
    }
   },
   "outputs": [],
   "source": [
    "def posterior(alpha, beta, L):\n",
    "    \"\"\" Posterior over true labels z p(z|l, \\alpha, \\beta)\n",
    "    Args:\n",
    "        alpha: ndarray of shape (n_experts).\n",
    "        beta: ndarray of shape (n_problems).\n",
    "        L: ndarray of shape (n_problems, n_experts).\n",
    "    \"\"\"\n",
    "    mult_ab = np.outer(beta, alpha)\n",
    "    neg_ab = -softplus(mult_ab)\n",
    "    pos_ab = softplus(-mult_ab)\n",
    "    \n",
    "    q = np.array([ \n",
    "            np.log(0.5) + np.sum((L == 0) * pos_ab + (L != 0) * neg_ab, axis=1),     \n",
    "            np.log(0.5) + np.sum((L == 1) * pos_ab + (L != 1) * neg_ab, axis=1)\n",
    "            ])\n",
    "    \n",
    "    q = np.exp(q) \n",
    "    \n",
    "    return q / np.sum(q, axis=0)\n",
    "\n",
    "def log_likelihood(alpha, beta, L, z):\n",
    "    \"\"\" p(l=z|z, \\alpha, \\beta)\n",
    "    Args:\n",
    "        alpha: ndarray of shape (n_experts).\n",
    "        beta: ndarray of shape (n_problems).\n",
    "        L: ndarray of shape (n_problems, n_experts).\n",
    "        z: ndarray of shape (n_problems).\n",
    "    \"\"\"\n",
    "    pass\n",
    "\n",
    "\n",
    "def alpha_grad_lb(alpha, beta, L, q):\n",
    "    \"\"\" Gradient of lower bound wrt alpha\n",
    "    Args:\n",
    "        alpha: ndarray of shape (n_experts).\n",
    "        beta: ndarray of shape (n_problems).\n",
    "        L: ndarray of shape (n_problems, n_experts).\n",
    "        q: ndarray of shape (2, n_problems).\n",
    "    \"\"\"\n",
    "    mult_ab = np.outer(beta, alpha)\n",
    "    neg_ab = expit(-mult_ab)\n",
    "    pos_ab = expit(mult_ab)\n",
    "    \n",
    "    desc = np.array([\n",
    "        (L == 0) * neg_ab - (L != 0) * pos_ab,\n",
    "        (L == 1) * neg_ab - (L != 1) * pos_ab\n",
    "    ])\n",
    "   \n",
    "    grads = np.array([\n",
    "        np.sum((desc[0].T * beta * q[0]).T, axis=0),\n",
    "        np.sum((desc[1].T * beta * q[1]).T, axis=0)\n",
    "    ])\n",
    "    \n",
    "    return np.sum(grads, axis=0)\n",
    "\n",
    "def logbeta_grad_lb(alpha, beta, L, q):\n",
    "    \"\"\" Gradient of lower bound wrt alpha\n",
    "    Args:\n",
    "        alpha: ndarray of shape (n_experts).\n",
    "        beta: ndarray of shape (n_problems).\n",
    "        L: ndarray of shape (n_problems, n_experts).\n",
    "        q: ndarray of shape (2, n_problems).\n",
    "    \"\"\"\n",
    "    mult_ab = np.outer(beta, alpha)\n",
    "    neg_ab = expit(-mult_ab)\n",
    "    pos_ab = expit(mult_ab)\n",
    "    \n",
    "    desc = np.array([\n",
    "        (L == 0) * neg_ab - (L != 0) * pos_ab,\n",
    "        (L == 1) * neg_ab - (L != 1) * pos_ab\n",
    "    ])\n",
    "    \n",
    "    grads = np.array([\n",
    "        np.sum(((desc[0] * alpha).T * q[0]).T, axis=1),\n",
    "        np.sum(((desc[1] * alpha).T * q[1]).T, axis=1)\n",
    "    ])\n",
    "    \n",
    "    return beta * np.sum(grads, axis=0)\n",
    "\n",
    "\n",
    "def lower_bound(alpha, beta, L, q, lr):\n",
    "    \"\"\" Lower bound\n",
    "    Args:\n",
    "        alpha: ndarray of shape (n_experts).\n",
    "        beta: ndarray of shape (n_problems).\n",
    "        L: ndarray of shape (n_problems, n_experts).\n",
    "        q: ndarray of shape (2, n_problems).\n",
    "    \"\"\"\n",
    "    iterations = 10\n",
    "\n",
    "    logbeta = np.log(beta)\n",
    "    for _ in range(iterations):   \n",
    "        alpha = alpha + lr * alpha_grad_lb(alpha, beta, L, q)\n",
    "        logbeta = logbeta + lr * (logbeta_grad_lb(alpha, beta, L, q))\n",
    "\n",
    "    return alpha, logbeta"
   ]
  },
  {
   "cell_type": "code",
   "execution_count": 6,
   "metadata": {
    "pycharm": {
     "name": "#%%\n"
    }
   },
   "outputs": [],
   "source": [
    "def em(L, n_steps=1000, lr=1e-3, verbose=None):\n",
    "    # initialize parameters\n",
    "    alpha, logbeta = np.random.randn(m), np.random.randn(n)\n",
    "    q = np.ones((2, len(logbeta))) * 0.5\n",
    "\n",
    "    for step in range(n_steps):\n",
    "        if verbose and (step + 1) % verbose == 0:\n",
    "            print(\"step\", step)\n",
    "        beta = np.exp(logbeta)\n",
    "        # E-step\n",
    "        q = posterior(alpha, beta, L)\n",
    "        # M-step\n",
    "        alpha, logbeta = lower_bound(alpha, beta, L, q, lr)\n",
    "\n",
    "    return alpha, np.exp(logbeta), q"
   ]
  },
  {
   "cell_type": "code",
   "execution_count": 7,
   "metadata": {
    "pycharm": {
     "name": "#%%\n"
    }
   },
   "outputs": [
    {
     "name": "stdout",
     "output_type": "stream",
     "text": [
      "step 99\n",
      "step 199\n",
      "step 299\n",
      "step 399\n",
      "step 499\n",
      "step 599\n",
      "step 699\n",
      "step 799\n",
      "step 899\n",
      "step 999\n"
     ]
    }
   ],
   "source": [
    "alpha, beta, q = em(L, verbose=100)"
   ]
  },
  {
   "cell_type": "markdown",
   "metadata": {
    "pycharm": {
     "name": "#%% md\n"
    }
   },
   "source": [
    "**Задание 2. (1 балл)** Загрузите настоящую разметку. Посчитайте `accuracy` разметки, полученной с помощью обычного голосования по большинству среди экспертов, и сравните его с качеством, полученным с помощью EM-алгоритма. Помните, что алгоритму не важно, какая метка 0, а какая 1, поэтому если получите качество <0.5, то просто поменяйте метки классов (не забудьте также поменять знак у $\\alpha$). "
   ]
  },
  {
   "cell_type": "code",
   "execution_count": 8,
   "metadata": {
    "pycharm": {
     "name": "#%%\n"
    }
   },
   "outputs": [
    {
     "name": "stdout",
     "output_type": "stream",
     "text": [
      "accuracy_score votes: 0.904\n",
      "accuracy_score EM: 0.9125\n"
     ]
    }
   ],
   "source": [
    "y = np.load('y.npy')\n",
    "# (∩ ￣ー￣)⊃ ✳✨✳✨✳✨✳\n",
    "print(\"accuracy_score votes:\", accuracy_score(y, np.average(L, axis=1) > 0.5))\n",
    "print(\"accuracy_score EM:\", accuracy_score(y, np.argmax(q, axis=0)))"
   ]
  },
  {
   "cell_type": "markdown",
   "metadata": {},
   "source": [
    "Видим, что качество EM алгоритма лучше, чем голосование большинства."
   ]
  },
  {
   "cell_type": "markdown",
   "metadata": {
    "pycharm": {
     "name": "#%% md\n"
    }
   },
   "source": [
    "**Задание 3. (0.5 балла)** Попробуйте проинтерпретировать полученные коэфициенты $\\alpha$. Есть ли в выборке эксперты, которые намеренно голосуют неверно? Как это можно понять по альфам? Продемонстрируйте, что эксперты действительно чаще голосуют за неверный класс. Постройте график зависимости доли врено размеченных экспертом объектов от коэффициента $\\alpha$. Прокомментируйте результаты."
   ]
  },
  {
   "cell_type": "code",
   "execution_count": 9,
   "metadata": {},
   "outputs": [],
   "source": [
    "import matplotlib.pyplot as plt"
   ]
  },
  {
   "cell_type": "code",
   "execution_count": 10,
   "metadata": {},
   "outputs": [
    {
     "data": {
      "image/png": "[encoded data removed]",
      "text/plain": [
       "<Figure size 640x480 with 1 Axes>"
      ]
     },
     "metadata": {},
     "output_type": "display_data"
    }
   ],
   "source": [
    "plt.hist(alpha);"
   ]
  },
  {
   "cell_type": "markdown",
   "metadata": {},
   "source": [
    "По графику видим, что есть 3 категории экспертов: хорошие, ошибающиеся и плохие. Также можно сказать, что если альфа сильно отрицательна, то данный эксперт голосует намеренно неверно."
   ]
  },
  {
   "cell_type": "code",
   "execution_count": 11,
   "metadata": {},
   "outputs": [
    {
     "data": {
      "image/png": "[encoded data removed]",
      "text/plain": [
       "<Figure size 640x480 with 1 Axes>"
      ]
     },
     "metadata": {},
     "output_type": "display_data"
    }
   ],
   "source": [
    "votes = np.array([expit(np.outer(beta, alpha)), 1 - expit(np.outer(beta, alpha))])\n",
    "votes = np.argmax(votes, axis=0)\n",
    "correct_votes = np.sum(((votes.T ^ y) ^ 1), axis=1)\n",
    "\n",
    "plt.scatter(alpha, correct_votes);"
   ]
  },
  {
   "cell_type": "code",
   "execution_count": 12,
   "metadata": {},
   "outputs": [
    {
     "data": {
      "text/plain": [
       "4"
      ]
     },
     "execution_count": 12,
     "metadata": {},
     "output_type": "execute_result"
    }
   ],
   "source": [
    "np.sum(alpha < 0)"
   ]
  },
  {
   "cell_type": "markdown",
   "metadata": {},
   "source": [
    "По диаграмме рассеяния видно, что эксперты с отрицательным значением  alpha (их четверо) дали меньше половины правильных ответов, а эксперты с положительным значением показателя alpha — больше половины. При этом ЕМ-алгоритм явно выделяет три группы экспертов: плохих, средних и хороших."
   ]
  },
  {
   "cell_type": "markdown",
   "metadata": {
    "pycharm": {
     "name": "#%% md\n"
    }
   },
   "source": [
    "**Задание 4. (бонус, 2 балла)**  Как уже было замечено выше, модели не важно, какой класс 1, а какой 0. Скажем, если все эксперты оказались максимально противными и ставят метку с точностью наоборот, то у вас будет полная согласованность между экспертами, при этом невозможно понять правильно они разметили выборку или нет, смотря только на такую разметку. Чтобы избежать этого, можно включать в выборку вопрос с заведомо известным ответом, тогда вы сможете определить, ставит ли эксперт специально неверные метки.\n",
    "\n",
    "Чтобы обощить данную модель на случай заданий с заведомо известной меткой, достоточно не делать для них E-шаг, а всегда полагать апостериорное распределение вырожденным в истинном классе. Реализуйте данную модель и используйте истинную разметку *для нескольких* задач из обучения. Проинтерпретируйте полученные результаты."
   ]
  },
  {
   "cell_type": "markdown",
   "metadata": {},
   "source": [
    "Допишем функция апостериорной вероятности"
   ]
  },
  {
   "cell_type": "code",
   "execution_count": 13,
   "metadata": {},
   "outputs": [],
   "source": [
    "def posterior_update(alpha, beta, L):\n",
    "    \"\"\" Posterior over true labels z p(z|l, \\alpha, \\beta)\n",
    "    Args:\n",
    "        alpha: ndarray of shape (n_experts).\n",
    "        beta: ndarray of shape (n_problems).\n",
    "        L: ndarray of shape (n_problems, n_experts).\n",
    "    \"\"\"\n",
    "    mult_ab = np.outer(beta, alpha)\n",
    "    neg_ab = -softplus(mult_ab)\n",
    "    pos_ab = softplus(-mult_ab)\n",
    "    \n",
    "    q = np.array([ \n",
    "            np.log(0.5) + np.sum((L == 0) * pos_ab + (L != 0) * neg_ab, axis=1),     \n",
    "            np.log(0.5) + np.sum((L == 1) * pos_ab + (L != 1) * neg_ab, axis=1)\n",
    "            ])\n",
    "    \n",
    "    q = np.exp(q) \n",
    "    \n",
    "    q[y[known_questions], known_questions] = 0.9\n",
    "    q[y[known_questions] ^ 1, known_questions] = 0.1\n",
    "\n",
    "    return q / np.sum(q, axis=0)"
   ]
  },
  {
   "cell_type": "markdown",
   "metadata": {},
   "source": [
    "Запустим обновленную функцию:"
   ]
  },
  {
   "cell_type": "code",
   "execution_count": 14,
   "metadata": {},
   "outputs": [
    {
     "name": "stdout",
     "output_type": "stream",
     "text": [
      "Число вопросов с известным ответом = 32\n",
      "\t accuracy = 0.91\n",
      "\t accuracy = 0.91\n",
      "\t accuracy = 0.911\n",
      "\t accuracy = 0.9115\n",
      "\t accuracy = 0.9115\n",
      "Число вопросов с известным ответом = 64\n",
      "\t accuracy = 0.9115\n",
      "\t accuracy = 0.9105\n",
      "\t accuracy = 0.91\n",
      "\t accuracy = 0.9105\n",
      "\t accuracy = 0.9105\n",
      "Число вопросов с известным ответом = 128\n",
      "\t accuracy = 0.91\n",
      "\t accuracy = 0.911\n",
      "\t accuracy = 0.9115\n",
      "\t accuracy = 0.913\n",
      "\t accuracy = 0.9125\n",
      "Число вопросов с известным ответом = 256\n",
      "\t accuracy = 0.911\n",
      "\t accuracy = 0.911\n",
      "\t accuracy = 0.9115\n",
      "\t accuracy = 0.911\n",
      "\t accuracy = 0.91\n",
      "Число вопросов с известным ответом = 512\n",
      "\t accuracy = 0.912\n",
      "\t accuracy = 0.911\n",
      "\t accuracy = 0.911\n",
      "\t accuracy = 0.91\n",
      "\t accuracy = 0.91\n"
     ]
    }
   ],
   "source": [
    "known_questions = []\n",
    "np.random.seed(13)\n",
    "for que in [32, 64, 128, 256, 512]:\n",
    "    print(\"Число вопросов с известным ответом =\", que)\n",
    "    known_questions = np.random.choice(2000, size=(que,), replace=False)\n",
    "\n",
    "    for _ in range(5):\n",
    "        alpha, beta, q = em(L, 39)\n",
    "        accuracy = accuracy_score(y, np.argmax(q,axis=0))\n",
    "        if accuracy < 0.5:\n",
    "            accuracy = accuracy_score(y, np.argmin(q, axis=0))\n",
    "\n",
    "        print(\"\\t accuracy =\", accuracy)\n"
   ]
  },
  {
   "cell_type": "markdown",
   "metadata": {},
   "source": [
    "Текующая инициализация не очень, так как accuracy чуть-чуть изменяется. Доработаем  нашу em функцию"
   ]
  },
  {
   "cell_type": "code",
   "execution_count": 15,
   "metadata": {},
   "outputs": [],
   "source": [
    "def em_update(L, n_steps=1000, lr=1e-3, verbose=None):\n",
    "    # initialize parameters\n",
    "    alpha, logbeta = np.random.randn(m), np.random.randn(n)\n",
    "    q = np.ones((2, len(logbeta))) * 0.5\n",
    "\n",
    "    for step in range(n_steps):\n",
    "        if verbose and (step + 1) % verbose == 0:\n",
    "            print(\"step\", step)\n",
    "\n",
    "        beta = np.exp(logbeta)\n",
    "        # E-step\n",
    "        q = posterior_update(alpha, beta, L)\n",
    "        # M-step\n",
    "        alpha, logbeta = lower_bound(alpha, beta, L, q, lr)\n",
    "\n",
    "    return alpha, np.exp(logbeta), q"
   ]
  },
  {
   "cell_type": "markdown",
   "metadata": {},
   "source": [
    "Запустим ещё раз"
   ]
  },
  {
   "cell_type": "code",
   "execution_count": 16,
   "metadata": {},
   "outputs": [
    {
     "name": "stdout",
     "output_type": "stream",
     "text": [
      "Число вопросов с известным ответом = 32\n",
      "\t accuracy = 0.9135\n",
      "\t accuracy = 0.914\n",
      "\t accuracy = 0.913\n",
      "\t accuracy = 0.9115\n",
      "\t accuracy = 0.9145\n",
      "Число вопросов с известным ответом = 64\n",
      "\t accuracy = 0.917\n",
      "\t accuracy = 0.9155\n",
      "\t accuracy = 0.915\n",
      "\t accuracy = 0.913\n",
      "\t accuracy = 0.9145\n",
      "Число вопросов с известным ответом = 128\n",
      "\t accuracy = 0.917\n",
      "\t accuracy = 0.917\n",
      "\t accuracy = 0.917\n",
      "\t accuracy = 0.921\n",
      "\t accuracy = 0.917\n",
      "Число вопросов с известным ответом = 256\n",
      "\t accuracy = 0.9235\n",
      "\t accuracy = 0.921\n",
      "\t accuracy = 0.9175\n",
      "\t accuracy = 0.9245\n",
      "\t accuracy = 0.925\n",
      "Число вопросов с известным ответом = 512\n",
      "\t accuracy = 0.935\n",
      "\t accuracy = 0.935\n",
      "\t accuracy = 0.9365\n",
      "\t accuracy = 0.9355\n",
      "\t accuracy = 0.9365\n"
     ]
    }
   ],
   "source": [
    "known_questions = []\n",
    "np.random.seed(13)\n",
    "for que in [32, 64, 128, 256, 512]:\n",
    "    print(\"Число вопросов с известным ответом =\", que)\n",
    "    for _ in range(5):\n",
    "        known_questions = np.random.choice(2000, size=(que,), replace=False)\n",
    "        alpha, beta, q = em_update(L, 39, 1e-4)\n",
    "        accuracy = accuracy_score(y, np.argmax(q,axis=0))\n",
    "        print(\"\\t accuracy =\", accuracy)"
   ]
  },
  {
   "cell_type": "markdown",
   "metadata": {},
   "source": [
    "Видим, что улучшение сработало - accuracy выросло до 0.93, то есть на 0.2.\n",
    "\n",
    "Плюсы: теперь алгоритм знает, где какие метки и нет необходимости проверять: больше или меньше accuracy 0.5, чтобы поменять их местами и домножать alpha на -1. Также, вероятно, можно будет сократить число экспертов.\n",
    "\n",
    "Минусы: в реальной жизни — придется давать много дополнительных вопросов экспертам — это может быть дорого. Но, с другой стороны, можно было бы сократить число экспертов, ведь теперь мы точно будем знать, кому доверять, а кому — нет. Думаю, что теперь прирост числа экспертов не будет давать такой же прирост в качестве, как раньше, если он вообще будет."
   ]
  },
  {
   "cell_type": "markdown",
   "metadata": {
    "pycharm": {
     "name": "#%% md\n"
    }
   },
   "source": [
    "# Выравнивание слов (Word Alignment)"
   ]
  },
  {
   "cell_type": "markdown",
   "metadata": {
    "pycharm": {
     "name": "#%% md\n"
    }
   },
   "source": [
    "EM-алгоритм также применяют на практике для настройки параметров модели выравнивания слов, более сложные модификации которой используются в статистическом машинном переводе. Мы не будем подробно обсуждать применение word alignment для перевода и ограничимся следующей целью: пусть у нас есть параллельный корпус из предложений на исходном языке и их переводов на целевой язык (в этом задании используются английский и чешский соответственно). \n",
    "\n",
    "Первая задача — определить с помощью этого корпуса, как переводится каждое отдельное слово на целевом языке. Вторая задача — для произвольной пары из предложения и его перевода установить, переводом какого слова в исходном предложении является каждое слово в целевом предложении. Оказывается, у обеих задач существует элегантное и эффективное решение при введении правильной вероятностной модели: в этой части задания вам предстоит его реализовать и оценить результаты работы. Но обо всём по порядку :)\n",
    "\n",
    "---\n",
    "\n",
    "Перед тем, как заниматься машинным обучением, давайте разберёмся с данными и метриками в интересующей нас задаче. В ячейке ниже загружается и разархивируется параллельный английско-чешский корпус, в котором есть разметка выравнивания слов. Нетрудно заметить, что формат XML-файла, использованный его авторами, не вполне стандартный: нет готовой команды , которая позволила бы получить список пар предложений вместе с выравниваниями. Это значит, что нужно разобраться с форматом и написать парсер самостоятельно, используя встроенные средства Python, например, модуль [xml](https://docs.python.org/3.7/library/xml.html)."
   ]
  },
  {
   "cell_type": "code",
   "execution_count": null,
   "metadata": {
    "pycharm": {
     "name": "#%%\n"
    }
   },
   "outputs": [],
   "source": [
    "%%bash\n",
    "wget -q https://lindat.mff.cuni.cz/repository/xmlui/bitstream/handle/11234/1-1804/CzEnAli_1.0.tar.gz -O CzEnAli_1.0.tar.gz\n",
    "mkdir -p data\n",
    "tar -xzf CzEnAli_1.0.tar.gz -C data/\n",
    "head -n 20 data/merged_data/project_syndicate/project_syndicate_bacchetta1.wa"
   ]
  },
  {
   "cell_type": "markdown",
   "metadata": {
    "pycharm": {
     "name": "#%% md\n"
    }
   },
   "source": [
    "**Задание -2. (0.5 балла)** Реализуйте функцию `extract_sentences`, которая принимает на вход путь к файлу с XML-разметкой, используемой в этом датасете, и возвращает список параллельных предложений, а также список из «уверенных» (sure) и «возможных» (possible) пар выравниваний. Отправьте вашу реализацию в Яндекс.Контест, чтобы убедиться в её корректности; в следующей ячейке ноутбука соберите все пары размеченных предложений из датасета в два списка `all_sentences` (список `SentencePair`) и `all_targets` (список LabeledAlignment).\n",
    "\n",
    "Здесь и далее соблюдайте сигнатуры функций и пользуйтесь объявленными в модуле `preprocessing.py` классами для организации данных. Стоит заметить, что предложения уже токенизированы (даже отделена пунктуация), поэтому предобработку текстов совершать не нужно. Обратите внимание на формат хранения выравниваний: нумерация начинается с 1 (в таком виде и нужно сохранять), первым в паре идёт слово из англоязычного предложения."
   ]
  },
  {
   "cell_type": "markdown",
   "metadata": {},
   "source": [
    "Напишем парсер XML"
   ]
  },
  {
   "cell_type": "code",
   "execution_count": 17,
   "metadata": {},
   "outputs": [],
   "source": [
    "%load_ext autoreload\n",
    "%autoreload 2"
   ]
  },
  {
   "cell_type": "code",
   "execution_count": 18,
   "metadata": {
    "pycharm": {
     "name": "#%%\n"
    }
   },
   "outputs": [],
   "source": [
    "import glob\n",
    "from preprocessing import extract_sentences\n",
    "import os\n",
    "\n",
    "all_sentences, all_sentences_test = [], []\n",
    "all_targets, all_targets_test = [], []\n",
    "# (´◕▽◕)⊃━☆\n",
    "\n",
    "all_sentences_test, all_targets_test = extract_sentences(\"celex_21990A0714.m.wa\")"
   ]
  },
  {
   "cell_type": "code",
   "execution_count": 19,
   "metadata": {},
   "outputs": [
    {
     "data": {
      "text/plain": [
       "[SentencePair(source=['Relationship', 'of', 'ICOs', 'and', 'ICBs', 'with', 'the', 'Fund'], target=['Vztah', 'mezinárodních', 'organizací', 'pro', 'suroviny', 'a', 'mezinárodních', 'subjektů', 'pro', 'suroviny', 'k', 'fondu']),\n",
       " SentencePair(source=['The', 'facilities', 'of', 'the', 'Fund', \"'s\", 'first', 'account', 'shall', 'be', 'used', 'only', 'by', 'ICOs', 'established', 'to', 'implement', 'the', 'provisions', 'of', 'ICAs', 'providing', 'for', 'either', 'international', 'buffer', 'stocks', 'or', 'internationally', 'coordinated', 'national', 'stocks', ',', 'and', 'which', 'have', 'concluded', 'an', 'association', 'agreement', '.'], target=['Prostředky', 'prvního', 'účtu', 'fondu', 'jsou', 'používány', 'pouze', 'mezinárodními', 'organizacemi', 'pro', 'suroviny', ',', 'které', 'jsou', 'zřízeny', 'za', 'účelem', 'provádění', 'mezinárodních', 'dohod', 'a', 'ujednání', 'o', 'surovinách', 'upravujících', 'mezinárodní', 'regulační', 'nebo', 'mezinárodně', 'koordinované', 'národní', 'sklady', ',', 'a', 'které', 'uzavřely', 'dohodu', 'o', 'přidružení', '.']),\n",
       " SentencePair(source=['The', 'association', 'agreement', 'shall', 'comply', 'with', 'the', 'terms', 'of', 'this', 'Agreement', 'and', 'of', 'any', 'rules', 'and', 'regulations', 'consistent', 'therewith', 'to', 'be', 'adopted', 'by', 'the', 'governing', 'council', '.'], target=['Dohoda', 'o', 'přidružení', 'musí', 'být', 'v', 'souladu', 's', 'touto', 'dohodou', 'a', 's', 'pravidly', ',', 'která', 'neodporují', 'této', 'dohodě', 'a', 'která', 'přijme', 'rada', 'guvernérů', '.']),\n",
       " SentencePair(source=['An', 'ICO', 'established', 'to', 'implement', 'the', 'provisions', 'of', 'an', 'ICA', 'which', 'provides', 'for', 'international', 'buffer', 'stocks', 'may', 'become', 'associated', 'with', 'the', 'Fund', 'for', 'the', 'purposes', 'of', 'the', 'first', 'account', ',', 'provided', 'that', 'the', 'ICA', 'is', 'negotiated', 'or', 'renegotiated', 'on', ',', 'and', 'conforms', 'to', ',', 'the', 'principle', 'of', 'joint', 'buffer', 'stock', 'financing', 'by', 'producers', 'and', 'consumers', 'participating', 'therein', '.'], target=['Mezinárodní', 'organizace', 'pro', 'suroviny', 'zřízená', 'za', 'účelem', 'provádění', 'mezinárodní', 'dohody', 'nebo', 'mezinárodního', 'ujednání', 'o', 'surovinách', ',', 'jež', 'upravuje', 'mezinárodní', 'regulační', 'nebo', 'mezinárodně', 'koordinované', 'národní', 'sklady', ',', 'se', 'může', 'přidružit', 'k', 'fondu', 'pro', 'účely', 'prvního', 'účtu', 'za', 'předpokladu', ',', 'že', 'mezinárodní', 'dohoda', 'nebo', 'ujednání', 'o', 'surovinách', 'je', 'sjednáno', 'v', 'souladu', 'se', 'zásadou', 'společného', 'financování', 'nárazových', 'zásob', 'zúčastněnými', 'výrobci', 'a', 'spotřebiteli', '.']),\n",
       " SentencePair(source=['For', 'the', 'purposes', 'of', 'this', 'Agreement', ',', 'levy', '-', 'financed', 'ICAs', 'shall', 'be', 'eligible', 'for', 'association', 'with', 'the', 'Fund', '.'], target=['Pro', 'účely', 'této', 'dohody', 'se', 'mohou', 'mezinárodní', 'dohody', 'nebo', 'ujednání', 'o', 'surovinách', 'financované', 'z', 'poplatků', 'přidružit', 'k', 'fondu', '.']),\n",
       " SentencePair(source=['A', 'proposed', 'association', 'agreement', 'shall', 'be', 'presented', 'by', 'the', 'managing', 'director', 'to', 'the', 'executive', 'board', 'and', ',', 'with', 'the', 'recommendation', 'of', 'the', 'board', ',', 'to', 'the', 'governing', 'council', 'for', 'approval', 'by', 'a', 'qualified', 'majority', '.'], target=['Návrh', 'dohody', 'o', 'přidružení', 'předloží', 'generální', 'ředitel', 'správní', 'radě', 'a', 's', 'jejím', 'doporučením', 'radě', 'guvernérů', 'ke', 'schválení', 'kvalifikovanou', 'většinou', '.']),\n",
       " SentencePair(source=['In', 'carrying', 'out', 'the', 'provisions', 'of', 'the', 'association', 'agreement', 'between', 'the', 'Fund', 'and', 'an', 'associated', 'ICO', 'each', 'institution', 'shall', 'respect', 'the', 'autonomy', 'of', 'the', 'other', '.'], target=['Při', 'provádění', 'dohody', 'o', 'přidružení', 'mezi', 'fondem', 'a', 'přidruženou', 'mezinárodní', 'organizací', 'pro', 'suroviny', 'respektují', 'obě', 'instituce', 'vzájemně', 'svou', 'nezávislost', '.']),\n",
       " SentencePair(source=['The', 'association', 'agreement', 'shall', 'specify', 'the', 'mutual', 'rights', 'and', 'obligations', 'of', 'the', 'Fund', 'and', 'the', 'associated', 'ICO', ',', 'in', 'terms', 'consistent', 'with', 'the', 'relevant', 'provisions', 'of', 'this', 'agreement', '.'], target=['Dohoda', 'o', 'přidružení', 'blíže', 'určí', 'vzájemná', 'práva', 'a', 'povinnosti', 'fondu', 'a', 'přidružené', 'mezinárodní', 'organizace', 'pro', 'suroviny', ',', 'a', 'to', 'v', 'souladu', 's', 'odpovídajícími', 'ustanoveními', 'této', 'dohody', '.']),\n",
       " SentencePair(source=['An', 'associated', 'ICO', 'shall', 'be', 'entitled', 'to', 'borrow', 'from', 'the', 'Fund', 'through', 'its', 'first', 'account', 'without', 'prejudice', 'to', 'its', 'eligibility', 'to', 'obtain', 'financing', 'from', 'the', 'second', 'account', ',', 'provided', 'that', 'the', 'associated', 'ICO', 'and', 'its', 'participants', 'have', 'performed', 'and', 'are', 'duly', 'performing', 'their', 'obligations', 'to', 'the', 'Fund', '.'], target=['Přidružená', 'mezinárodní', 'organizace', 'pro', 'suroviny', 'je', 'oprávněná', 'půjčit', 'si', 'prostředky', 'z', 'prvního', 'účtu', 'fondu', ';', 'tím', 'není', 'dotčena', 'možnost', 'obdržet', 'financování', 'z', 'druhého', 'účtu', 'za', 'podmínky', ',', 'že', 'tato', 'organizace', 'a', 'její', 'účastníci', 'plnili', 'a', 'náležitě', 'plní', 'své', 'závazky', 'vůči', 'fondu', '.']),\n",
       " SentencePair(source=['An', 'association', 'agreement', 'shall', 'provide', 'for', 'a', 'settlement', 'of', 'accounts', 'between', 'the', 'associated', 'ICO', 'and', 'the', 'Fund', 'before', 'any', 'renewal', 'of', 'the', 'association', 'agreement', '.'], target=['Dohoda', 'o', 'přidružení', 'upraví', 'vypořádání', 'účtů', 'mezi', 'přidruženou', 'mezinárodní', 'organizací', 'pro', 'suroviny', 'a', 'fondem', 'před', 'obnovením', 'takové', 'dohody', '.'])]"
      ]
     },
     "execution_count": 19,
     "metadata": {},
     "output_type": "execute_result"
    }
   ],
   "source": [
    "all_sentences_test[:10]"
   ]
  },
  {
   "cell_type": "code",
   "execution_count": 20,
   "metadata": {},
   "outputs": [],
   "source": [
    "path = \"CzEnAli_1.0.tar (2)/data\"\n",
    "\n",
    "for subdir, dirs, files in os.walk(path):\n",
    "    for file in files:\n",
    "        filepath = os.path.join(subdir, file)\n",
    "        if filepath.endswith(\".wa\"):\n",
    "            try:\n",
    "                sentences, targets = extract_sentences(filepath)\n",
    "                all_sentences.extend(sentences)\n",
    "                all_targets.extend(targets)\n",
    "            except Exception as e:\n",
    "                print(f\"Error processing file: {filepath}\\n{e}\")"
   ]
  },
  {
   "cell_type": "markdown",
   "metadata": {},
   "source": [
    "Ссылка на посылку: [ссылка](https://contest.yandex.ru/contest/60281/run-report/110843254/)"
   ]
  },
  {
   "cell_type": "markdown",
   "metadata": {
    "pycharm": {
     "name": "#%% md\n"
    }
   },
   "source": [
    "**Задание -1. (0.5 балла)** Реализуйте функции `get_token_to_index` и `tokenize_sents` из модуля `preprocessing.py`, постройте словари token->index для обоих языков и постройте список из `TokenizedSentencePair` по выборке. Реализации функций также отправьте в Яндекс.Контест."
   ]
  },
  {
   "cell_type": "code",
   "execution_count": 21,
   "metadata": {
    "pycharm": {
     "name": "#%%\n"
    }
   },
   "outputs": [],
   "source": [
    "from preprocessing import get_token_to_index, tokenize_sents\n",
    "\n",
    "t_idx_src, t_idx_tgt = get_token_to_index(all_sentences)\n",
    "tokenized_sentences = tokenize_sents(all_sentences, t_idx_src, t_idx_tgt)"
   ]
  },
  {
   "cell_type": "markdown",
   "metadata": {},
   "source": [
    "Ссылка на посылку: [ссылка](https://contest.yandex.ru/contest/60281/run-report/110916792/)"
   ]
  },
  {
   "cell_type": "markdown",
   "metadata": {
    "pycharm": {
     "name": "#%% md\n"
    }
   },
   "source": [
    "В качестве бейзлайна для этой задачи мы возьмём способ выравнивания слов по коэффициенту Дайса: слово в исходном языке является переводом слова на целевом языке, если они часто встречаются в одних и тех же предложениях и редко встречаются по отдельности. \n",
    "\n",
    "Математически это записывается по аналогии с мерой Жаккара: пусть $c(x,y)$ — число параллельных предложений, в которых есть и $x$ (на исходном языке), и $y$ (на целевом языке), а $c(x)$ и $c(y)$ — суммарное количество предложений, в которых встречается слово $x$ и $y$ соответственно. Тогда $\\textrm{Dice}(x,y)=\\frac{2 \\cdot c(x,y)}{c(x) + c(y)}$ — характеристика «похожести» слов $x$ и $y$. Она равна 1, если слова встречаются только в контексте друг друга (не бывает предложений только со словом $x$ без $y$ в переводе и наоборот), равна 0, если слова никогда не встречаются в параллельных предложениях и находится между пороговыми значениями в остальных случаях.\n",
    "\n",
    "В файле `models.py` описан абстрактный класс `BaseAligner`, наследником которого должны являться все модели в задании, а также приведён пример реализации `DiceAligner` выравнивания слов описанным выше путём. Ниже вы можете увидеть, как применять эту модель."
   ]
  },
  {
   "cell_type": "code",
   "execution_count": 22,
   "metadata": {
    "pycharm": {
     "name": "#%%\n"
    }
   },
   "outputs": [],
   "source": [
    "from models import DiceAligner\n",
    "\n",
    "baseline = DiceAligner(len(t_idx_src), len(t_idx_tgt), threshold=0.01)\n",
    "baseline.fit(tokenized_sentences)"
   ]
  },
  {
   "cell_type": "markdown",
   "metadata": {
    "pycharm": {
     "name": "#%% md\n"
    }
   },
   "source": [
    "Чтобы оценить качество модели выравнивания, пользуясь имеющейся разметкой, существует ряд автоматических метрик. Они подразумевают, что в разметке есть два вида выравниваний — «уверенные» (sure) и «возможные» (possible). Обозначим для конкретного предложения первое множество выравниваний $S$, второе — $P$, а предсказанные выравнивания — $A$; причём, в отличие от разметки в файле, $S\\subseteq P$. Тогда можно предложить три метрики, используя только операции над этими множествами:\n",
    "\n",
    "Precision $=\\frac{|A\\cap P|}{|A|}$. Отражает, какая доля предсказанных нами выравниваний вообще корректна; если мы дадим в качестве ответа все возможные пары слов в предложении, эта метрика сильно просядет.\n",
    "\n",
    "Recall $=\\frac{|A\\cap S|}{|S|}$. Эта метрика показывает, какую долю «уверенных» выравниваний мы обнаружили. Если мы попытаемся сделать слишком консервативную модель, которая выдаёт 0 или 1 предсказание на нетривиальных предложениях, полнота получится крайне низкая. \n",
    "\n",
    "Alignment Error Rate (AER) $=1-\\frac{|A\\cap P|+|A\\cap S|}{|A|+|S|}$. Метрика является комбинацией двух предыдущих и отслеживает общее качество работы системы, штрафуя оба описанных выше вида нежелаемого поведения модели. \n",
    "\n",
    "**Задание 0. (0.5 балла)** Реализуйте функции compute_precision, compute_recall, compute_aer из модуля metrics.py. Оцените качество бейзлайнового метода. Обратите внимание, что нужно использовать микро-усреднение во всех функциях: необходимо просуммировать числитель и знаменатель по всем предложениям и только потом делить."
   ]
  },
  {
   "cell_type": "code",
   "execution_count": 23,
   "metadata": {
    "pycharm": {
     "name": "#%%\n"
    }
   },
   "outputs": [
    {
     "data": {
      "text/plain": [
       "0.8135630370634345"
      ]
     },
     "execution_count": 23,
     "metadata": {},
     "output_type": "execute_result"
    }
   ],
   "source": [
    "from metrics import compute_aer\n",
    "\n",
    "compute_aer(all_targets,baseline.align(tokenized_sentences))"
   ]
  },
  {
   "cell_type": "markdown",
   "metadata": {},
   "source": [
    "Ссылка на посылку: [ссылка](https://contest.yandex.ru/contest/60281/run-report/110916893/)"
   ]
  },
  {
   "cell_type": "markdown",
   "metadata": {
    "pycharm": {
     "name": "#%% md\n"
    }
   },
   "source": [
    "Теперь мы можем перейти к базовой вероятностной модели для выравнивания слов. Пусть $S=(s_1,\\ldots,s_n)$ исходное предложение, $T=(t_1,\\ldots,t_m)$ — его перевод. В роли латентных переменных будут выступать выравнивания $A=(a_1,\\ldots,a_m)$ каждого слова в целевом предложении, причём $a_i\\in\\{1,\\ldots,n\\}$ (считаем, что каждое слово в $t$ является переводом какого-то слова из $s$). Параметрами модели является матрица условных вероятностей перевода: каждый её элемент $\\theta(y|x)=p(y|x)$ отражает вероятность того, что переводом слова $x$ с исходного языка на целевой является слово $y$ (нормировка, соответственно, совершается по словарю целевого языка). Правдоподобие латентных переменных и предложения на целевом языке в этой модели записывается так:\n",
    "\n",
    "$$\n",
    "p(A,T|S)=\\prod_{i=1}^m p(a_i)p(t_i|a_i,S)=\\prod_{i=1}^m \\frac{1}{n}\\theta(t_i|s_{a_i}).\n",
    "$$ "
   ]
  },
  {
   "cell_type": "markdown",
   "metadata": {
    "pycharm": {
     "name": "#%% md\n"
    }
   },
   "source": [
    "**Задание 1. (2 балла)** Выведите шаги EM-алгоритма для этой модели, а также получите выражение для подсчёта нижней оценки правдоподобия ($\\mathcal{L}$ в обозначениях лекции и семинара). **Обратите внимание, что на M-шаге нужно найти аналитический максимум по параметрам.**"
   ]
  },
  {
   "cell_type": "markdown",
   "metadata": {
    "pycharm": {
     "name": "#%% md\n"
    }
   },
   "source": [
    "(∩｀-´)⊃━☆ﾟ.*･｡ﾟ"
   ]
  },
  {
   "cell_type": "markdown",
   "metadata": {
    "pycharm": {
     "name": "#%% md\n"
    }
   },
   "source": [
    "**Задание 2. (2.5 балла)** Реализуйте все методы класса `WordAligner` в соответствии с полученными вами формулами. Протестируйте вашу реализацию через Яндекс.Контест, а здесь обучите модель и посчитайте её AER на истинной разметке. Чтобы предсказать выравнивание для пары предложений в этой модели, следует выбирать в соответствие для слова в целевом предложении с индексом $i$ позицию, соответствующую максимуму апостериорного распределения $p(a_i|T,S)$."
   ]
  },
  {
   "cell_type": "code",
   "execution_count": null,
   "metadata": {
    "pycharm": {
     "name": "#%%\n"
    }
   },
   "outputs": [],
   "source": [
    "from models import WordAligner\n",
    "\n",
    "word_aligner = WordAligner(len(t_idx_src), len(t_idx_tgt), 20)\n",
    "word_aligner.fit(tokenized_sentences);\n",
    "\n",
    "# ༼つ ಠ益ಠ༽つ ─=≡ΣO))"
   ]
  },
  {
   "cell_type": "markdown",
   "metadata": {
    "pycharm": {
     "name": "#%% md\n"
    }
   },
   "source": [
    "Заметим, что таблицу вероятностей перевода можно использовать и саму по себе для построения словарей. Пример работы показан ниже: метод хоть и работает, но мягко говоря, неидально — слишком мало данных."
   ]
  },
  {
   "cell_type": "code",
   "execution_count": null,
   "metadata": {
    "pycharm": {
     "name": "#%%\n"
    }
   },
   "outputs": [],
   "source": [
    "idx_token_tgt = {index:token for token, index in t_idx_tgt.items()}"
   ]
  },
  {
   "cell_type": "code",
   "execution_count": null,
   "metadata": {
    "pycharm": {
     "name": "#%%\n"
    }
   },
   "outputs": [],
   "source": [
    "[idx_token_tgt[i] for i in word_aligner.translation_probs[t_idx_src['Mr']].argsort()[-3:]]"
   ]
  },
  {
   "cell_type": "code",
   "execution_count": null,
   "metadata": {
    "pycharm": {
     "name": "#%%\n"
    }
   },
   "outputs": [],
   "source": [
    "[idx_token_tgt[i] for i in word_aligner.translation_probs[t_idx_src['Mrs']].argsort()[-3:]]"
   ]
  },
  {
   "cell_type": "code",
   "execution_count": null,
   "metadata": {
    "pycharm": {
     "name": "#%%\n"
    },
    "scrolled": true
   },
   "outputs": [],
   "source": [
    "[idx_token_tgt[i] for i in word_aligner.translation_probs[t_idx_src['water']].argsort()[-3:]]"
   ]
  },
  {
   "cell_type": "code",
   "execution_count": null,
   "metadata": {
    "pycharm": {
     "name": "#%%\n"
    }
   },
   "outputs": [],
   "source": [
    "[idx_token_tgt[i] for i in word_aligner.translation_probs[t_idx_src['depended']].argsort()[-3:]]"
   ]
  },
  {
   "cell_type": "code",
   "execution_count": null,
   "metadata": {
    "pycharm": {
     "name": "#%%\n"
    }
   },
   "outputs": [],
   "source": [
    "[idx_token_tgt[i] for i in word_aligner.translation_probs[t_idx_src['on']].argsort()[-3:]]"
   ]
  },
  {
   "cell_type": "markdown",
   "metadata": {
    "pycharm": {
     "name": "#%% md\n"
    }
   },
   "source": [
    "**Задание 3. (0.5 балла)** Мы смогли получить матрицу условных вероятностей перевода исходного языка в целевой. Можно ли, пользуясь этой матрицей и ещё какими-то статистиками по параллельному корпусу, получить вероятности перевода целевого языка в исходный? Реализуйте такой метод и приведите ниже пример его работы, показав пару удачных переводов."
   ]
  },
  {
   "cell_type": "code",
   "execution_count": null,
   "metadata": {
    "pycharm": {
     "name": "#%%\n"
    }
   },
   "outputs": [],
   "source": [
    "# (>ω<)ノ—==ΞΞ☆*✲ﾟ"
   ]
  },
  {
   "cell_type": "markdown",
   "metadata": {
    "pycharm": {
     "name": "#%% md\n"
    }
   },
   "source": [
    "**Задание 4. (0.5 балла)** Визуализируйте полученные выравнивания для нескольких предложений в виде heatmap: по одной из осей располагаются токены исходного текста, по другой — токены его перевода, на пересечении позиций $i$ и $j$ — 0 либо 1 в зависимости от того, является ли в обученной модели $a_i$ равным $j$. Можете ли вы их проинтерпретировать? Постройте аналогичный график, но без дискретизации, а визуализируя напрямую апостериорное распределение. Можете ли вы найти ситуации, в которых модель не уверена, переводом какого слова является слово $i$?"
   ]
  },
  {
   "cell_type": "code",
   "execution_count": null,
   "metadata": {
    "pycharm": {
     "name": "#%%\n"
    }
   },
   "outputs": [],
   "source": [
    "# (•̀ 3 •́)━★☆.*･｡ﾟ"
   ]
  },
  {
   "cell_type": "markdown",
   "metadata": {
    "pycharm": {
     "name": "#%% md\n"
    }
   },
   "source": [
    "Заметим, что при задании модели мы сделали довольно сильное предположение о том, что вероятности выбора слова для выравнивания никак не зависят от позиции слова в целевом предложении. Можно сделать эти вероятности настраиваемыми параметрами, получив прямоугольную матрицу $\\phi_{m,n}(j|i)=p(a_i=j|m,n)$ для каждой пары длин предложений $m,n$: по-прежнему мы получаем распределение над индексами в исходном предложении. Тогда модель приобретает вид\n",
    "$$\n",
    "p(A,T|S)=\\prod_{i=1}^m p(a_i|m,n)p(t_i| a_i, S)=\\prod_{i=1}^m \\phi_{m,n}(a_i|i)\\theta(t_i|s_{a_i}).\n",
    "$$"
   ]
  },
  {
   "cell_type": "markdown",
   "metadata": {
    "pycharm": {
     "name": "#%% md\n"
    }
   },
   "source": [
    "**Задание 5. (1.5 балла)** Выведите шаги EM-алгоритма для этой модели, а также получите выражение для подсчёта нижней оценки правдоподобия."
   ]
  },
  {
   "cell_type": "markdown",
   "metadata": {
    "pycharm": {
     "name": "#%% md\n"
    }
   },
   "source": [
    "ଘ(๑˃̵ᴗ˂̵)━☆ﾟ.*･｡ﾟ"
   ]
  },
  {
   "cell_type": "markdown",
   "metadata": {
    "pycharm": {
     "name": "#%% md\n"
    }
   },
   "source": [
    "**Задание 6. (2 балла)** Реализуйте все методы класса `WordPositionAligner`, протестируйте их корректность через Яндекс.Контест. Обучите модель, оцените её качество на истинной разметке и сравните его с качеством предыдущей более простой модели. Проиллюстрируйте влияние стартовых параметров на результат, проинициализировав эту модель параметрами модели из задания 2 (важно, чтобы суммарное число эпох обучения в обоих сценариях оставалось тем же)."
   ]
  },
  {
   "cell_type": "code",
   "execution_count": null,
   "metadata": {
    "pycharm": {
     "name": "#%%\n"
    }
   },
   "outputs": [],
   "source": [
    "from models import WordPositionAligner\n",
    "# (≧ ◡ ≦)━★☆.*･｡ﾟ"
   ]
  },
  {
   "cell_type": "markdown",
   "metadata": {
    "pycharm": {
     "name": "#%% md\n"
    }
   },
   "source": [
    "**Задание 7. (1 балл)** В предыдущих пунктах мы никак не заостряли внимание на предобработке текстов, что может негативно влиять на результаты обученной модели. Например, сейчас метод выравнивания учитывает регистр, а слова на чешском языке вдобавок обладают богатой морфологией и большим количеством диакритических знаков. Если сократить количество параметров модели (различных слов), можно ускорить обучение и добиться лучших результатов, потому что статистики по словам будут считаться по большему числу параллельных предложений.\n",
    "\n",
    "Примените к исходным данным [Unicode-нормализацию](https://en.wikipedia.org/wiki/Unicode_equivalence#Normalization), приведите их к нижнему регистру и обучите модель выравнивания заново. Сравните качество и скорость обучения с предыдущими результатами и сделайте выводы. Если вы найдете в данных ещё какие-то проблемы, которые можно исправить более грамотной предобработкой, также продемонстрируйте, как их решение влияет на качество.\n",
    "\n",
    "**Важно:** здесь и далее в процессе обработки данных у вас может получаться, что из тестовых данных будут удалены предложения из-за отсутствия слов в словаре. Если такое всё же произошло, для корректности сравнения считайте AER вашей модели на удалённых предложениях равным 1."
   ]
  },
  {
   "cell_type": "code",
   "execution_count": null,
   "metadata": {
    "pycharm": {
     "name": "#%%\n"
    }
   },
   "outputs": [],
   "source": [
    "# (੭•̀ω•́)੭̸*✩⁺˚"
   ]
  },
  {
   "cell_type": "markdown",
   "metadata": {
    "pycharm": {
     "name": "#%% md\n"
    }
   },
   "source": [
    "**Задание 7. (бонус, до 3 баллов)** \n",
    "\n",
    "Улучшите качество получившейся системы настолько, насколько сможете. За каждые 5 процентов, на которые AER на тех же данных получается меньше, чем минимум ошибки всех предыдущих моделей, вы получите по 1 бонусному баллу.\n",
    "\n",
    "Ниже приведены несколько идей, которые могут помочь вам повысить \n",
    "\n",
    "* Модифицировать модель: как вы можете понять, недостатком второго реализованного вами подхода является избыточное число параметров из-за необходимости подерживать отдельную матрицу для каждой различной пары длин предложений в корпусе. В статье https://www.aclweb.org/anthology/N13-1073.pdf приведён способ снижения числа параметров, задающих априорное распределение позиций выравнивания, который позволяет в десять раз быстрее обучать модель и получать лучшее качество.\n",
    "* Агрегация по двум направлениям: в статье https://www.aclweb.org/anthology/J03-1002/ утверждается, что асимметричность выравниваний вредит качеству, потому что из-за выбранной модели одному слову в целевом предложении не может соответствовать два слова в исходном предложении. Для решения этой проблемы (и улучшения метрик, разумеется) авторы предлагают несколько алгоритмов, которые можно попробовать применить в этом задании.\n",
    "* Использовать больше обучающих данных. В корпусе, которым мы пользуемся, только пара тысяч предложений, чего может не хватать для по-настоящему хорошей модели выравнивания. Разумеется, неразмеченных параллельных английско-чешских корпусов гораздо больше, поэтому можно воспользоваться ими. Хорошая точка для старта — данные с соревнования по машинному переводу  [воркшопа WMT](http://www.statmt.org/wmt20/translation-task.html).\n",
    "* В языках часто существуют слова наподобие артиклей или предлогов, которым не соответствует ни одно слово в переводе. Все рассмотренные в рамках задания модели это не учитывают, возможно, добавление возможности перевода в «нулевой» токен улучшит качество модели (при тестировании такие выравнивания имеет смысл выбрасывать)"
   ]
  },
  {
   "cell_type": "code",
   "execution_count": null,
   "metadata": {
    "pycharm": {
     "name": "#%%\n"
    }
   },
   "outputs": [],
   "source": [
    "# ┐_(ツ)_┌━☆ﾟ.*･｡ﾟ"
   ]
  },
  {
   "cell_type": "markdown",
   "metadata": {},
   "source": [
    "В каких-то местах использовала источник информации [тык](https://github.com/markysha/ml-practice/tree/main/homework-practice)"
   ]
  }
 ],
 "metadata": {
  "kernelspec": {
   "display_name": "Python 3 (ipykernel)",
   "language": "python",
   "name": "python3"
  },
  "language_info": {
   "codemirror_mode": {
    "name": "ipython",
    "version": 3
   },
   "file_extension": ".py",
   "mimetype": "text/x-python",
   "name": "python",
   "nbconvert_exporter": "python",
   "pygments_lexer": "ipython3",
   "version": "3.9.6"
  }
 },
 "nbformat": 4,
 "nbformat_minor": 4
}
